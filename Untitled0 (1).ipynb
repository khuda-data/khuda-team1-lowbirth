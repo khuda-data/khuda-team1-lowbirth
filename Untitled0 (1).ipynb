{
  "nbformat": 4,
  "nbformat_minor": 0,
  "metadata": {
    "colab": {
      "provenance": []
    },
    "kernelspec": {
      "name": "python3",
      "display_name": "Python 3"
    },
    "language_info": {
      "name": "python"
    }
  },
  "cells": [
    {
      "cell_type": "markdown",
      "source": [
        "## 출산율 시각화"
      ],
      "metadata": {
        "id": "EkZHFFjWOzt8"
      }
    },
    {
      "cell_type": "code",
      "source": [
        "import pandas as pd\n",
        "import matplotlib.pyplot as plt"
      ],
      "metadata": {
        "id": "4mn_dMAseRMj"
      },
      "execution_count": 2,
      "outputs": []
    },
    {
      "cell_type": "code",
      "source": [
        "import pandas as pd\n",
        "\n",
        "# 파일 경로에 맞게 수정하세요\n",
        "df = pd.read_excel(\"/content/output.xltx\")\n",
        "\n",
        "# 데이터 미리 보기\n",
        "print(df.head())"
      ],
      "metadata": {
        "colab": {
          "base_uri": "https://localhost:8080/"
        },
        "id": "ofIBgEmYiENV",
        "outputId": "7d6acf4a-bcc8-4afc-f866-c974033f62e1"
      },
      "execution_count": 27,
      "outputs": [
        {
          "output_type": "stream",
          "name": "stdout",
          "text": [
            "    광역시도  매입년도  공급량      PIR      매매 가격    출산율\n",
            "0  서울특별시  2004    0  5.79936  38.315735  1.015\n",
            "1  서울특별시  2005    0  5.97235  37.798039  0.932\n",
            "2  서울특별시  2006    0  5.67587  41.690630  0.980\n",
            "3  서울특별시  2007    0  6.12634  44.726886  1.068\n",
            "4  서울특별시  2008    0  5.09491  45.409901  1.010\n"
          ]
        }
      ]
    },
    {
      "cell_type": "code",
      "source": [
        "from sklearn.ensemble import RandomForestRegressor\n",
        "from sklearn.model_selection import train_test_split\n",
        "\n",
        "# X, y 정의\n",
        "X = df[['공급량', 'PIR', '매매 가격']]\n",
        "y = df['출산율']\n",
        "\n",
        "# 학습/테스트 데이터 분리\n",
        "X_train, X_test, y_train, y_test = train_test_split(X, y, test_size=0.2, random_state=42)\n",
        "\n",
        "# 모델 학습\n",
        "model = RandomForestRegressor(random_state=42)\n",
        "model.fit(X_train, y_train)\n",
        "\n",
        "# 변수 중요도 출력\n",
        "importances = model.feature_importances_\n",
        "for feature, importance in zip(X.columns, importances):\n",
        "    print(f\"{feature}: {importance:.4f}\")\n"
      ],
      "metadata": {
        "colab": {
          "base_uri": "https://localhost:8080/"
        },
        "id": "7B5e9qtxjiQc",
        "outputId": "8ed3cbbb-8159-4eb4-ae81-aca161adaf99"
      },
      "execution_count": 30,
      "outputs": [
        {
          "output_type": "stream",
          "name": "stdout",
          "text": [
            "공급량: 0.3280\n",
            "PIR: 0.1018\n",
            "매매 가격: 0.5702\n"
          ]
        }
      ]
    }
  ]
}